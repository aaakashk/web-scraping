{
 "cells": [
  {
   "cell_type": "code",
   "execution_count": null,
   "metadata": {},
   "outputs": [],
   "source": [
    "import requests\n",
    "from bs4 import BeautifulSoup"
   ]
  },
  {
   "cell_type": "code",
   "execution_count": null,
   "metadata": {},
   "outputs": [],
   "source": [
    "import re\n",
    "date_pattern = '[JFMASOND].*?\\s.*?\\d{4}'\n",
    "publisher_pattern = '(?<=by ).*'\n",
    "suffix_pattern = '(?<=\\d)[stndrh]+'"
   ]
  },
  {
   "cell_type": "code",
   "execution_count": null,
   "metadata": {},
   "outputs": [],
   "source": [
    "def get_response(url):\n",
    "    try:\n",
    "        response = requests.get(url)\n",
    "        response.raise_for_status()\n",
    "        return response\n",
    "    except requests.exceptions.HTTPError as errh:\n",
    "        print('HTTP Error: ', errh)\n",
    "    except requests.exceptions.ConnectionError as errc:\n",
    "        print('Connection Error: ', errc)\n",
    "    except requests.exceptions.Timeout as errt:\n",
    "        print('Timed out: ', errt)\n",
    "    except requests.exceptions.RequestException as err:\n",
    "        print('Some other error: ', err)    "
   ]
  },
  {
   "cell_type": "code",
   "execution_count": null,
   "metadata": {},
   "outputs": [],
   "source": [
    "def get_links():\n",
    "    url = 'https://www.goodreads.com/genres/most_read/fantasy'\n",
    "\n",
    "    response = get_response(url)\n",
    "    soup = BeautifulSoup(response.text, 'html.parser')\n",
    "    links = soup.select('div.coverWrapper > a')\n",
    "\n",
    "    list_links = []\n",
    "    base_url = 'https://goodreads.com'\n",
    "    for link in links:\n",
    "        list_links.append(base_url + link['href'])\n",
    "    return list_links"
   ]
  },
  {
   "cell_type": "code",
   "execution_count": null,
   "metadata": {},
   "outputs": [],
   "source": [
    "list_links = get_links()\n",
    "list_links[:10]"
   ]
  },
  {
   "cell_type": "code",
   "execution_count": null,
   "metadata": {},
   "outputs": [],
   "source": [
    "#lists\n",
    "list_titles = []\n",
    "list_authors = []\n",
    "list_stars = []\n",
    "list_ratings_count = []\n",
    "list_pages = []\n",
    "list_publish_date =[]\n",
    "list_publishers = []\n",
    "list_languages = []"
   ]
  },
  {
   "cell_type": "code",
   "execution_count": null,
   "metadata": {},
   "outputs": [],
   "source": [
    "def get_soup(url):\n",
    "    response = get_response(url)\n",
    "    soup = BeautifulSoup(response.text, 'html.parser')\n",
    "    html_tag = soup.find('html', {'lang': 'en'})\n",
    "    if html_tag is not None:\n",
    "        return get_soup(url)\n",
    "    else:\n",
    "        return soup"
   ]
  },
  {
   "cell_type": "code",
   "execution_count": null,
   "metadata": {},
   "outputs": [],
   "source": [
    "def get_info(soup):\n",
    "    object_title = soup.find('h1')\n",
    "    if object_title is not None:\n",
    "        title = object_title.text.strip()\n",
    "    else:\n",
    "        title = 'NA'\n",
    "    object_author = soup.find('span', {'itemprop': 'name'})\n",
    "    if object_title is not None:\n",
    "        author = object_author.text\n",
    "    else:\n",
    "        author = 'NA'\n",
    "    object_stars = soup.find('span', {'itemprop': 'ratingValue'})\n",
    "    if object_stars is not None:\n",
    "        stars = object_stars.text.strip()\n",
    "    else:\n",
    "        stars = '1.00'\n",
    "    object_ratings = soup.find('meta', {'itemprop': 'ratingCount'})\n",
    "    if object_ratings is not None:\n",
    "        ratings = object_ratings['content']\n",
    "    else:\n",
    "        ratings = 'NA'\n",
    "    object_pages = soup.find('meta', {'property': 'books:page_count'})\n",
    "    if object_pages is not None:\n",
    "        pages = object_pages['content']\n",
    "    else:\n",
    "        pages = 'NA'\n",
    "    object_publish_info = soup.select_one('div.row + div.row')\n",
    "    if object_publish_info is not None:\n",
    "        publish_info = object_publish_info.text.strip()\n",
    "        date = re.findall(date_pattern, publish_info)\n",
    "        if len(date) == 0:\n",
    "            date.append('NA')\n",
    "        publisher = re.findall(publisher_pattern, publish_info)\n",
    "        if len(publisher) == 0:\n",
    "            publisher.append('NA')\n",
    "    else:\n",
    "        date = 'NA'\n",
    "        publisher = 'NA'\n",
    "    object_language = soup.find('div', {'class': 'infoBoxRowItem', 'itemprop': 'inLanguage'})\n",
    "    if object_language is not None:\n",
    "        language = object_language.text\n",
    "    else:\n",
    "        language = 'English'\n",
    "    \n",
    "    list_titles.append(title)\n",
    "    list_authors.append(author)\n",
    "    list_stars.append(stars)\n",
    "    list_ratings_count.append(ratings)\n",
    "    list_pages.append(pages)\n",
    "    list_publish_date.append(date[0])\n",
    "    list_publishers.append(publisher[0])\n",
    "    list_languages.append(language)\n",
    "    "
   ]
  },
  {
   "cell_type": "code",
   "execution_count": null,
   "metadata": {},
   "outputs": [],
   "source": [
    "from IPython.display import clear_output\n",
    "\n",
    "def main_func():\n",
    "    i = 1\n",
    "    for url_link in list_links:\n",
    "        soup = get_soup(url_link)\n",
    "        get_info(soup)\n",
    "        clear_output(wait=True)\n",
    "        print(f'completed... {i}/100', flush= True)\n",
    "        i += 1"
   ]
  },
  {
   "cell_type": "code",
   "execution_count": null,
   "metadata": {},
   "outputs": [],
   "source": [
    "main_func()"
   ]
  },
  {
   "cell_type": "code",
   "execution_count": null,
   "metadata": {},
   "outputs": [],
   "source": [
    "len(list_titles)"
   ]
  },
  {
   "cell_type": "code",
   "execution_count": null,
   "metadata": {},
   "outputs": [],
   "source": [
    "#fixes dates' format\n",
    "for i, date in enumerate(list_publish_date):\n",
    "    suffix = re.findall(suffix_pattern, date)\n",
    "    if len(suffix) != 0:\n",
    "        list_publish_date[i] = date.replace(suffix[0], ',')"
   ]
  },
  {
   "cell_type": "code",
   "execution_count": null,
   "metadata": {},
   "outputs": [],
   "source": [
    "#comparator function returns list that contains ratio of rating count to stars\n",
    "def comparator_function(list_ratings_count, list_stars):\n",
    "    comparator = []\n",
    "    for i, k in zip(list_ratings_count, list_stars):\n",
    "        comparator.append(float(k)/float(i))\n",
    "    return comparator\n",
    "    \n",
    "comparator = comparator_function(list_stars, list_ratings_count)"
   ]
  },
  {
   "cell_type": "code",
   "execution_count": null,
   "metadata": {},
   "outputs": [],
   "source": [
    "main_dict ={\n",
    "    'Title'         : list_titles,\n",
    "    'Author'        : list_authors,\n",
    "    'Stars'         : list_stars,\n",
    "    'Ratings Count' : list_ratings_count,\n",
    "    'Pages'         : list_pages,\n",
    "    'Publish Date'  : list_publish_date,\n",
    "    'Publisher'     : list_publishers,\n",
    "    'Language'      : list_languages,\n",
    "    'comparator'    : comparator\n",
    "}"
   ]
  },
  {
   "cell_type": "code",
   "execution_count": null,
   "metadata": {},
   "outputs": [],
   "source": [
    "import pandas as pd\n",
    "books_df = pd.DataFrame(main_dict)\n",
    "books_df = books_df.sort_values(by='comparator', ascending=False, kind='mergesort', ignore_index=True)\n",
    "books_df = books_df.drop('comparator', axis= 1)\n",
    "books_df"
   ]
  },
  {
   "cell_type": "code",
   "execution_count": null,
   "metadata": {},
   "outputs": [],
   "source": [
    "number_list = [x for x in range(1, 101)]\n",
    "books_df['S No'] = number_list\n",
    "books_df = books_df.set_index('S No')"
   ]
  },
  {
   "cell_type": "code",
   "execution_count": null,
   "metadata": {},
   "outputs": [],
   "source": [
    "books_df.to_csv('list-of-fantasy-fiction-books.csv')"
   ]
  }
 ],
 "metadata": {
  "kernelspec": {
   "display_name": "Python 3.8.13 ('web_scraping')",
   "language": "python",
   "name": "python3"
  },
  "language_info": {
   "codemirror_mode": {
    "name": "ipython",
    "version": 3
   },
   "file_extension": ".py",
   "mimetype": "text/x-python",
   "name": "python",
   "nbconvert_exporter": "python",
   "pygments_lexer": "ipython3",
   "version": "3.8.13"
  },
  "orig_nbformat": 4,
  "vscode": {
   "interpreter": {
    "hash": "9444efb63d0d06add65d588e3a1c3da4d5064b056c3315c270e96dfed4e4b1db"
   }
  }
 },
 "nbformat": 4,
 "nbformat_minor": 2
}
