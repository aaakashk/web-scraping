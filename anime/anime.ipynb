{
 "cells": [
  {
   "cell_type": "code",
   "execution_count": 1,
   "metadata": {},
   "outputs": [],
   "source": [
    "import requests\n",
    "from bs4 import BeautifulSoup"
   ]
  },
  {
   "cell_type": "code",
   "execution_count": 2,
   "metadata": {},
   "outputs": [],
   "source": [
    "def get_doc():\n",
    "    url = 'https://www.imdb.com/list/ls057577566/?sort=moviemeter,asc&st_dt=&mode=detail&page=1'\n",
    "    response = requests.get(url)\n",
    "    if response.status_code != 200:\n",
    "        raise Exception(\"page couldn't be open\")\n",
    "    soup = BeautifulSoup(response.text, 'html.parser')\n",
    "    return soup"
   ]
  },
  {
   "cell_type": "code",
   "execution_count": 3,
   "metadata": {},
   "outputs": [],
   "source": [
    "soup = get_doc()"
   ]
  },
  {
   "cell_type": "code",
   "execution_count": 4,
   "metadata": {},
   "outputs": [],
   "source": [
    "list_names = []\n",
    "list_ratings = []\n",
    "list_genres = []\n",
    "list_descriptions = []"
   ]
  },
  {
   "cell_type": "code",
   "execution_count": 5,
   "metadata": {},
   "outputs": [],
   "source": [
    "def get_data(soup):\n",
    "    name = soup.select('div.lister-item-content > h3.lister-item-header > a[href^=\"/title/\"]')\n",
    "\n",
    "    for a in name:\n",
    "        list_names.append(a.text)\n",
    "    \n",
    "    rating_parent_div_tags = soup.select('div.ipl-rating-widget')\n",
    "    \n",
    "    for parent_div_tag in rating_parent_div_tags:\n",
    "        div_tag = parent_div_tag.find('div', {'class': 'ipl-rating-star small'})\n",
    "        span_tag = div_tag.find('span', {'class': 'ipl-rating-star__rating'})\n",
    "        list_ratings.append(span_tag.text)\n",
    "\n",
    "    genre = soup.select('span.genre')\n",
    "    for g in genre:\n",
    "        list_genres.append(g.text.strip().replace('Animation, ', ''))\n",
    "        \n",
    "    description_tags = soup.select('div.lister-item-content')\n",
    "    for tag in description_tags:\n",
    "        description = tag.find('p', {'class': ''}).text\n",
    "        list_descriptions.append(description)"
   ]
  },
  {
   "cell_type": "code",
   "execution_count": 6,
   "metadata": {},
   "outputs": [],
   "source": [
    "get_data(soup)"
   ]
  },
  {
   "cell_type": "code",
   "execution_count": 7,
   "metadata": {},
   "outputs": [],
   "source": [
    "for i, desc in enumerate(list_descriptions):\n",
    "    replaced = desc.replace('\\n', '')\n",
    "    list_descriptions[i] = replaced.replace('                See full summary\\xa0»', '')"
   ]
  },
  {
   "cell_type": "code",
   "execution_count": 8,
   "metadata": {},
   "outputs": [],
   "source": [
    "dict_of_lists = {\n",
    "    'Name'      : list_names,\n",
    "    'Ratings'   : list_ratings,\n",
    "    'Genres'    : list_genres,\n",
    "    'Description': list_descriptions\n",
    "}"
   ]
  },
  {
   "cell_type": "code",
   "execution_count": 9,
   "metadata": {},
   "outputs": [],
   "source": [
    "import pandas as pd\n",
    "anime_df = pd.DataFrame(dict_of_lists)"
   ]
  },
  {
   "cell_type": "code",
   "execution_count": 10,
   "metadata": {},
   "outputs": [
    {
     "data": {
      "text/html": [
       "<div>\n",
       "<style scoped>\n",
       "    .dataframe tbody tr th:only-of-type {\n",
       "        vertical-align: middle;\n",
       "    }\n",
       "\n",
       "    .dataframe tbody tr th {\n",
       "        vertical-align: top;\n",
       "    }\n",
       "\n",
       "    .dataframe thead th {\n",
       "        text-align: right;\n",
       "    }\n",
       "</style>\n",
       "<table border=\"1\" class=\"dataframe\">\n",
       "  <thead>\n",
       "    <tr style=\"text-align: right;\">\n",
       "      <th></th>\n",
       "      <th>Name</th>\n",
       "      <th>Ratings</th>\n",
       "      <th>Genres</th>\n",
       "      <th>Description</th>\n",
       "    </tr>\n",
       "  </thead>\n",
       "  <tbody>\n",
       "    <tr>\n",
       "      <th>0</th>\n",
       "      <td>Demon Slayer: Kimetsu No Yaiba</td>\n",
       "      <td>8.7</td>\n",
       "      <td>Action, Adventure</td>\n",
       "      <td>A family is attacked by demons and only two me...</td>\n",
       "    </tr>\n",
       "    <tr>\n",
       "      <th>1</th>\n",
       "      <td>Hunter x Hunter</td>\n",
       "      <td>9</td>\n",
       "      <td>Action, Adventure</td>\n",
       "      <td>Gon Freecss aspires to become a Hunter, an exc...</td>\n",
       "    </tr>\n",
       "    <tr>\n",
       "      <th>2</th>\n",
       "      <td>Death Note: Desu nôto</td>\n",
       "      <td>9</td>\n",
       "      <td>Crime, Drama</td>\n",
       "      <td>An intelligent high school student goes on a s...</td>\n",
       "    </tr>\n",
       "    <tr>\n",
       "      <th>3</th>\n",
       "      <td>Vinland Saga</td>\n",
       "      <td>8.8</td>\n",
       "      <td>Action, Adventure</td>\n",
       "      <td>Thorfinn pursues a journey with his father's k...</td>\n",
       "    </tr>\n",
       "    <tr>\n",
       "      <th>4</th>\n",
       "      <td>JoJo no kimyô-na bôken</td>\n",
       "      <td>8.4</td>\n",
       "      <td>Action, Adventure</td>\n",
       "      <td>The story of the Joestar family, who are posse...</td>\n",
       "    </tr>\n",
       "    <tr>\n",
       "      <th>...</th>\n",
       "      <td>...</td>\n",
       "      <td>...</td>\n",
       "      <td>...</td>\n",
       "      <td>...</td>\n",
       "    </tr>\n",
       "    <tr>\n",
       "      <th>95</th>\n",
       "      <td>Koi kaze</td>\n",
       "      <td>7.5</td>\n",
       "      <td>Drama, Romance</td>\n",
       "      <td>Koshiro and Nanoka fall deeply in love, then d...</td>\n",
       "    </tr>\n",
       "    <tr>\n",
       "      <th>96</th>\n",
       "      <td>Ef: A Tale of Memories.</td>\n",
       "      <td>7.5</td>\n",
       "      <td>Comedy, Drama</td>\n",
       "      <td>A story of love, heartbreak and youth, as the ...</td>\n",
       "    </tr>\n",
       "    <tr>\n",
       "      <th>97</th>\n",
       "      <td>Sayonara zetsubô sensei</td>\n",
       "      <td>7.6</td>\n",
       "      <td>Comedy, Drama</td>\n",
       "      <td>A pessimistic high school teacher must somehow...</td>\n",
       "    </tr>\n",
       "    <tr>\n",
       "      <th>98</th>\n",
       "      <td>Kaleido Star</td>\n",
       "      <td>7.8</td>\n",
       "      <td>Comedy, Drama</td>\n",
       "      <td>Sora, a young girl from Japan, comes to Americ...</td>\n",
       "    </tr>\n",
       "    <tr>\n",
       "      <th>99</th>\n",
       "      <td>Seikai no monshô</td>\n",
       "      <td>7.6</td>\n",
       "      <td>Action, Drama</td>\n",
       "      <td>Jinto is a polite young man whose world was ov...</td>\n",
       "    </tr>\n",
       "  </tbody>\n",
       "</table>\n",
       "<p>100 rows × 4 columns</p>\n",
       "</div>"
      ],
      "text/plain": [
       "                              Name Ratings             Genres  \\\n",
       "0   Demon Slayer: Kimetsu No Yaiba     8.7  Action, Adventure   \n",
       "1                  Hunter x Hunter       9  Action, Adventure   \n",
       "2            Death Note: Desu nôto       9       Crime, Drama   \n",
       "3                     Vinland Saga     8.8  Action, Adventure   \n",
       "4           JoJo no kimyô-na bôken     8.4  Action, Adventure   \n",
       "..                             ...     ...                ...   \n",
       "95                        Koi kaze     7.5     Drama, Romance   \n",
       "96         Ef: A Tale of Memories.     7.5      Comedy, Drama   \n",
       "97         Sayonara zetsubô sensei     7.6      Comedy, Drama   \n",
       "98                    Kaleido Star     7.8      Comedy, Drama   \n",
       "99                Seikai no monshô     7.6      Action, Drama   \n",
       "\n",
       "                                          Description  \n",
       "0   A family is attacked by demons and only two me...  \n",
       "1   Gon Freecss aspires to become a Hunter, an exc...  \n",
       "2   An intelligent high school student goes on a s...  \n",
       "3   Thorfinn pursues a journey with his father's k...  \n",
       "4   The story of the Joestar family, who are posse...  \n",
       "..                                                ...  \n",
       "95  Koshiro and Nanoka fall deeply in love, then d...  \n",
       "96  A story of love, heartbreak and youth, as the ...  \n",
       "97  A pessimistic high school teacher must somehow...  \n",
       "98  Sora, a young girl from Japan, comes to Americ...  \n",
       "99  Jinto is a polite young man whose world was ov...  \n",
       "\n",
       "[100 rows x 4 columns]"
      ]
     },
     "execution_count": 10,
     "metadata": {},
     "output_type": "execute_result"
    }
   ],
   "source": [
    "anime_df"
   ]
  },
  {
   "cell_type": "code",
   "execution_count": 11,
   "metadata": {},
   "outputs": [],
   "source": [
    "anime_df.to_csv('list-popular-anime.csv')"
   ]
  },
  {
   "cell_type": "code",
   "execution_count": null,
   "metadata": {},
   "outputs": [],
   "source": []
  }
 ],
 "metadata": {
  "kernelspec": {
   "display_name": "Python 3.8.13 ('web_scraping')",
   "language": "python",
   "name": "python3"
  },
  "language_info": {
   "codemirror_mode": {
    "name": "ipython",
    "version": 3
   },
   "file_extension": ".py",
   "mimetype": "text/x-python",
   "name": "python",
   "nbconvert_exporter": "python",
   "pygments_lexer": "ipython3",
   "version": "3.8.13"
  },
  "orig_nbformat": 4,
  "vscode": {
   "interpreter": {
    "hash": "9444efb63d0d06add65d588e3a1c3da4d5064b056c3315c270e96dfed4e4b1db"
   }
  }
 },
 "nbformat": 4,
 "nbformat_minor": 2
}
